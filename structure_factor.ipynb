{
 "cells": [
  {
   "cell_type": "code",
   "execution_count": 3,
   "metadata": {},
   "outputs": [],
   "source": [
    "import numpy as np\n",
    "from scipy.stats import binned_statistic\n",
    "import matplotlib.pyplot as plt\n"
   ]
  },
  {
   "cell_type": "code",
   "execution_count": 4,
   "metadata": {},
   "outputs": [],
   "source": [
    "class traj:\n",
    "    def __init__(self, box_size, positions,types):\n",
    "        self.box_size =box_size\n",
    "        self.positions=positions\n",
    "        \n",
    "        self.types=types\n",
    "N_particles=10000\n",
    "def read_lammpstrj(filename,N_particles):\n",
    "    f=open(filename)\n",
    "    Lines=f.readlines()\n",
    "    n_timestep=int(len(Lines)/(N_particles+9))\n",
    "    box_size=np.zeros((n_timestep,3))\n",
    "    positions=np.zeros((n_timestep,N_particles,3))\n",
    "    types=np.zeros((n_timestep,N_particles))\n",
    "    count = 0\n",
    "\n",
    "    for line in Lines:\n",
    "        n_t=int(count/(N_particles+9))\n",
    "        separate=line.split()\n",
    "        if count%(9+N_particles)==5:\n",
    "            box_size[n_t][0]=float(separate[1])-float(separate[0])\n",
    "        if count%(9+N_particles)==6:\n",
    "            box_size[n_t][1]=float(separate[1])-float(separate[0])\n",
    "        if count%(9+N_particles)==7:\n",
    "            box_size[n_t][2]=float(separate[1])-float(separate[0])\n",
    "        if count%(9+N_particles)>=9:\n",
    "            n_p=int(separate[0])-1\n",
    "            types[n_t][n_p]=float(separate[1])\n",
    "            positions[n_t][n_p][0]=float(separate[2])\n",
    "            positions[n_t][n_p][1]=float(separate[3])\n",
    "            positions[n_t][n_p][2]=float(separate[4])\n",
    "            \n",
    "        count+=1\n",
    "    return traj(box_size=box_size,positions=positions,types=types) \n",
    "a=read_lammpstrj('nanorod_Dump.lammpstrj',N_particles)"
   ]
  },
  {
   "cell_type": "code",
   "execution_count": 5,
   "metadata": {},
   "outputs": [],
   "source": [
    "frame1=a.positions[100]\n",
    "dims=a.box_size[0]"
   ]
  },
  {
   "cell_type": "code",
   "execution_count": 6,
   "metadata": {},
   "outputs": [],
   "source": [
    "def true_distance_vectorized(points, L):\n",
    "    # Calculate the pairwise distance differences considering periodic boundary conditions\n",
    "    delta = np.abs(points[:, np.newaxis, :] - points[np.newaxis, :, :])\n",
    "    delta = np.where(delta > L / 2, L - delta, delta)\n",
    "    # Compute the Euclidean distances\n",
    "    distances = np.linalg.norm(delta, axis=-1)\n",
    "    return distances"
   ]
  },
  {
   "cell_type": "markdown",
   "metadata": {},
   "source": []
  },
  {
   "cell_type": "code",
   "execution_count": 7,
   "metadata": {},
   "outputs": [],
   "source": [
    "def compute_pairwise_distances(frame,L,N_particles):\n",
    "    distances_matrix = true_distance_vectorized(frame,L)\n",
    "    i_upper, j_upper = np.triu_indices(N_particles, k=1)\n",
    "    pairwise_distances = distances_matrix[i_upper, j_upper]\n",
    "    index = np.argwhere(pairwise_distances>dims[0]/2)\n",
    "    pairwise_distances = np.delete(pairwise_distances, index)\n",
    "    return pairwise_distances"
   ]
  },
  {
   "cell_type": "code",
   "execution_count": 8,
   "metadata": {},
   "outputs": [],
   "source": [
    "\n",
    "distances=compute_pairwise_distances(frame1,dims[0],10000)"
   ]
  },
  {
   "cell_type": "code",
   "execution_count": 9,
   "metadata": {},
   "outputs": [],
   "source": [
    "def calculate_g_r_frame(frame,L,N_particles,dr,minr,maxr):\n",
    "    distances=compute_pairwise_distances(frame,L,N_particles)\n",
    "    n_bins=int((maxr-minr)/dr)\n",
    "    rho=N_particles/(L**3)\n",
    "    N_r,radiir,index=binned_statistic(distances,distances,statistic='count',bins=n_bins,range=[minr,maxr])\n",
    "    midr = (radiir[:-1] + radiir[1:]) / 2\n",
    "    g_r=N_r*2/(N_particles*4*np.pi*midr*midr*dr*rho)\n",
    "    return g_r, midr"
   ]
  },
  {
   "cell_type": "code",
   "execution_count": 10,
   "metadata": {},
   "outputs": [],
   "source": [
    "g_r,midr=calculate_g_r_frame(frame1,dims[0],10000,0.1,0,dims[0]/2)"
   ]
  },
  {
   "cell_type": "code",
   "execution_count": 11,
   "metadata": {},
   "outputs": [
    {
     "data": {
      "text/plain": [
       "(0.0, 200.0)"
      ]
     },
     "execution_count": 11,
     "metadata": {},
     "output_type": "execute_result"
    },
    {
     "data": {
      "image/png": "[encoded data removed]",
      "text/plain": [
       "<Figure size 640x480 with 1 Axes>"
      ]
     },
     "metadata": {},
     "output_type": "display_data"
    }
   ],
   "source": [
    "plt.plot(midr,g_r)\n",
    "ax = plt.gca()\n",
    "ax.set_xlim([0, 200])\n"
   ]
  },
  {
   "cell_type": "code",
   "execution_count": 12,
   "metadata": {},
   "outputs": [],
   "source": [
    "rho=N_particles/(dims[0]**3)"
   ]
  },
  {
   "cell_type": "code",
   "execution_count": 13,
   "metadata": {},
   "outputs": [
    {
     "name": "stderr",
     "output_type": "stream",
     "text": [
      "/var/folders/nl/0wymk6gn3bs5t88nh2hh2n400000gn/T/ipykernel_96213/2916548178.py:10: RuntimeWarning: divide by zero encountered in divide\n",
      "  S_q=1-4*np.pi*rho*fft_result.imag*dr/(fft_freqs)\n"
     ]
    }
   ],
   "source": [
    "#number of bins\n",
    "dr=0.1\n",
    "nb=g_r.shape[0]\n",
    "integrand_padded = np.zeros(nb*2)\n",
    "integrand=(g_r-1)*midr\n",
    "integrand_padded[:nb]=integrand\n",
    "# Compute the Fourier Transform of the histogram\n",
    "fft_result = np.fft.fft(integrand_padded)\n",
    "fft_freqs = np.fft.fftfreq(2*nb, d=0.1)\n",
    "S_q=1-4*np.pi*rho*fft_result.imag*dr/(fft_freqs)\n"
   ]
  },
  {
   "cell_type": "code",
   "execution_count": 40,
   "metadata": {},
   "outputs": [
    {
     "name": "stderr",
     "output_type": "stream",
     "text": [
      "/var/folders/nl/0wymk6gn3bs5t88nh2hh2n400000gn/T/ipykernel_96213/270391299.py:3: UserWarning: Attempt to set non-positive xlim on a log-scaled axis will be ignored.\n",
      "  ax.set_xlim([0, 0.1])\n"
     ]
    },
    {
     "data": {
      "text/plain": [
       "(0.0009838747467044435, 0.1)"
      ]
     },
     "execution_count": 40,
     "metadata": {},
     "output_type": "execute_result"
    },
    {
     "data": {
      "image/png": "[encoded data removed]",
      "text/plain": [
       "<Figure size 640x480 with 1 Axes>"
      ]
     },
     "metadata": {},
     "output_type": "display_data"
    }
   ],
   "source": [
    "plt.loglog(fft_freqs,S_q)\n",
    "ax = plt.gca()\n",
    "ax.set_xlim([0, 0.1])"
   ]
  },
  {
   "cell_type": "code",
   "execution_count": 24,
   "metadata": {},
   "outputs": [],
   "source": [
    "def Calculate_S_q_frame(frame,L,N_particles,dr,minr,maxr):\n",
    "    nb=0.1*int((maxr-minr)/dr)#number of bins\n",
    "    maxq=0.2*np.pi/dr\n",
    "    dq=maxq/nb\n",
    "    qarray=np.arange(0,maxq,dq)\n",
    "    distance_array=compute_pairwise_distances(frame,L,N_particles)\n",
    "    S_q_list = []\n",
    "    for q in qarray:\n",
    "        S_q = (-2/( N_particles*q)) * np.sum(np.sin(q * distance_array)/distance_array)\n",
    "        S_q_list.append(S_q)\n",
    "        print(S_q)\n",
    "        \n",
    "    S_q_array = np.array(S_q_list)\n",
    "    return qarray, S_q_array\n",
    "    "
   ]
  },
  {
   "cell_type": "code",
   "execution_count": 25,
   "metadata": {},
   "outputs": [
    {
     "name": "stderr",
     "output_type": "stream",
     "text": [
      "/var/folders/nl/0wymk6gn3bs5t88nh2hh2n400000gn/T/ipykernel_96213/2723973220.py:9: RuntimeWarning: divide by zero encountered in scalar divide\n",
      "  S_q = (-2/( N_particles*q)) * np.sum(np.sin(q * distance_array)/distance_array)\n",
      "/var/folders/nl/0wymk6gn3bs5t88nh2hh2n400000gn/T/ipykernel_96213/2723973220.py:9: RuntimeWarning: invalid value encountered in scalar multiply\n",
      "  S_q = (-2/( N_particles*q)) * np.sum(np.sin(q * distance_array)/distance_array)\n"
     ]
    },
    {
     "name": "stdout",
     "output_type": "stream",
     "text": [
      "nan\n",
      "398.27190049472256\n",
      "99.92063350449587\n",
      "44.73036186107092\n",
      "25.346070576813776\n",
      "16.266209356207334\n",
      "11.256540726357926\n",
      "8.270359439275625\n",
      "6.230316755016708\n",
      "4.769634119429135\n",
      "3.6439638176530136\n",
      "2.903084995214007\n",
      "2.256210334816943\n",
      "1.9085623623214134\n",
      "1.7663344335190494\n",
      "1.5506635857537436\n",
      "1.4445406839495674\n",
      "1.3040356322973374\n",
      "1.191750985053027\n",
      "1.0686251678924519\n",
      "1.002391957979799\n",
      "0.933972038251322\n",
      "0.8689449538739205\n",
      "0.8251435518140108\n",
      "0.7811844953311036\n",
      "0.7472180173379352\n",
      "0.7052173547796152\n",
      "0.6706027947450418\n",
      "0.6343449565566478\n",
      "0.5977525157265271\n",
      "0.5785603452219369\n",
      "0.5388019567465295\n",
      "0.492095541982455\n",
      "0.4595321115728319\n",
      "0.42640629738717595\n",
      "0.39047079606351\n",
      "0.36636386467109683\n",
      "0.3359782580283704\n",
      "0.29750375470572976\n",
      "0.2722254538095934\n",
      "0.2396155780361926\n",
      "0.2183711210998173\n",
      "0.19034355929389202\n",
      "0.16961521993936446\n",
      "0.16098437011850586\n",
      "0.129635850674213\n",
      "0.11958304333540164\n",
      "0.10716313310204248\n",
      "0.09031079277946935\n",
      "0.09249250340714318\n",
      "0.08120948368461234\n",
      "0.08672246167382523\n",
      "0.08453339905476882\n",
      "0.0762430453615211\n",
      "0.08340129777205114\n",
      "0.08340452652377277\n",
      "0.09009516429322269\n",
      "0.10235546777186343\n",
      "0.10486422741534034\n",
      "0.11389779195138715\n",
      "0.11608151943814315\n",
      "0.12257230747646317\n",
      "0.123126507896584\n",
      "0.13288176818000647\n",
      "0.13310107295645734\n",
      "0.13692888044693471\n",
      "0.14384009498843178\n",
      "0.13905188695971066\n",
      "0.13471911305326056\n",
      "0.13856047281250533\n",
      "0.13325153276624632\n",
      "0.1284364968909613\n",
      "0.1257934951350769\n",
      "0.11622973635105797\n",
      "0.10966083999838376\n",
      "0.10716041659081395\n",
      "0.0962326913327423\n",
      "0.08733756587264094\n",
      "0.07511249393317093\n",
      "0.0689024719139999\n",
      "0.057259967151133406\n",
      "0.04829424941716993\n",
      "0.04414376886726978\n",
      "0.0349268838358988\n",
      "0.029750406839136146\n",
      "0.021754082981545856\n",
      "0.02033170751802728\n",
      "0.012989163017025044\n",
      "0.012317578114000837\n",
      "0.00966068043027269\n",
      "0.01051316830428842\n",
      "0.00500499449734239\n",
      "0.014017435421914562\n",
      "0.01643756296049764\n",
      "0.016452026036409214\n",
      "0.019310441904263585\n",
      "0.026258539032378146\n",
      "0.02831279377276364\n",
      "0.033636078589080395\n",
      "0.03900054529307187\n",
      "0.042554295564529304\n",
      "0.04533201887601824\n",
      "0.0489999485087009\n",
      "0.05650863105329386\n",
      "0.060625709904833514\n",
      "0.06091475509891714\n",
      "0.06157152094055365\n",
      "0.06263154662756677\n",
      "0.06794970284357571\n",
      "0.06735489972301562\n",
      "0.06589046776253393\n",
      "0.06233705130870558\n",
      "0.058712609196947985\n",
      "0.057553663633178154\n",
      "0.05361079810027254\n",
      "0.04787619306645432\n",
      "0.044606089498326916\n",
      "0.04261463190403968\n",
      "0.03534436297479457\n",
      "0.03217234160708265\n",
      "0.023286806531593256\n",
      "0.019307410684879033\n",
      "0.014036409931523329\n",
      "0.01229163165940916\n",
      "0.009487575862146932\n",
      "0.0028261628854893144\n",
      "0.0018882633410750348\n",
      "0.001971471877773486\n",
      "-0.0020813575830318023\n",
      "-0.002167414129238957\n",
      "-0.0020465714977009825\n",
      "-0.005139953591335836\n",
      "0.0005068890459243384\n",
      "-6.72176560858337e-05\n",
      "0.0020911146435408914\n",
      "0.006472132919906847\n",
      "0.008439889150424889\n",
      "0.012009042684190833\n",
      "0.015339134881100405\n",
      "0.02154297114010409\n",
      "0.02397516172312561\n",
      "0.02552026264008612\n",
      "0.030774948274203906\n",
      "0.031872873477635275\n",
      "0.033135485926762465\n",
      "0.03729030200562744\n",
      "0.038185744187755284\n",
      "0.039775512187525286\n",
      "0.04185677745611052\n",
      "0.04114300874976572\n",
      "0.039274710432613505\n",
      "0.0381337984767345\n",
      "0.03695576194851773\n",
      "0.03358662308529166\n",
      "0.03376607658438587\n",
      "0.03048875775753786\n",
      "0.02518852670103947\n",
      "0.023088837178158565\n",
      "0.021097439006564255\n",
      "0.017022708680170258\n",
      "0.014675163574850237\n",
      "0.009856148166412679\n",
      "0.0054228081702827205\n",
      "0.0030612073364704685\n",
      "0.0016299939608714726\n",
      "0.00043952635651841964\n",
      "-0.0019107829366462918\n",
      "-0.0038175611144967126\n",
      "-0.007129511428665753\n",
      "-0.0055139177241974435\n",
      "-0.005360335999241972\n",
      "-0.005647514794414651\n",
      "-0.005969888636037313\n",
      "-0.0019062877388760584\n",
      "0.00043325829333758903\n",
      "0.0006374043422454676\n",
      "0.003944678888076316\n",
      "0.007122498041209934\n",
      "0.00986373166278971\n",
      "0.011787947715225271\n",
      "0.015158241615906438\n",
      "0.015087199402974422\n",
      "0.019444360312555503\n",
      "0.023531229974515667\n",
      "0.025367884070378394\n",
      "0.026072280827374512\n",
      "0.025831347920666846\n",
      "0.028191171272073687\n",
      "0.026378904441273852\n",
      "0.027508670605779138\n",
      "0.02646737231301606\n",
      "0.02730854670978074\n",
      "0.025793687271410973\n",
      "0.024570174186152847\n",
      "0.02179083826286735\n",
      "0.020301547025741724\n",
      "0.016889541374567843\n",
      "0.01484022896205203\n",
      "0.01306578497743093\n",
      "0.011359428775876684\n",
      "0.00859462511767133\n",
      "0.006403576267428245\n",
      "0.002488037198788096\n",
      "0.0030667225945662795\n",
      "-0.0017226721944925353\n",
      "-0.0024007596491749986\n",
      "-0.00428104610855833\n",
      "-0.004094668043781345\n",
      "-0.0059168571610681555\n",
      "-0.006010242446173108\n",
      "-0.005886233870891286\n",
      "-0.0035344389190304615\n",
      "-0.004750344092479529\n",
      "-0.001578209942675077\n",
      "-0.002542008957728101\n",
      "0.0019475901842825735\n",
      "0.0013022430454497917\n",
      "0.002621603097263549\n",
      "0.007664529330219306\n",
      "0.008314468609515248\n",
      "0.011616155161801964\n",
      "0.011635655266498327\n",
      "0.014445378152699088\n",
      "0.015303790211138708\n",
      "0.016339570636061278\n",
      "0.01917639051131635\n",
      "0.020104768284756876\n",
      "0.019847412147741744\n",
      "0.018796857681613585\n",
      "0.02070273812826918\n",
      "0.021617432382089054\n",
      "0.018518316230085242\n",
      "0.019347604916476684\n",
      "0.01773759367980962\n",
      "0.015943985489371083\n",
      "0.015135496271757556\n",
      "0.013213650420714885\n",
      "0.011295334029198842\n",
      "0.010517985145278916\n",
      "0.007491422721442592\n",
      "0.004353578651805297\n",
      "0.003724364542887431\n",
      "0.002808787612967293\n",
      "0.00038663145238688465\n",
      "-0.0006579998460786014\n",
      "-0.0038003986265907723\n",
      "-0.0032267134336649186\n",
      "-0.004708256721230583\n",
      "-0.004397283632151881\n",
      "-0.004649190482475105\n",
      "-0.003480385525741941\n",
      "-0.0041929373701535405\n",
      "-0.0033175657114319175\n",
      "-0.003738484837987775\n",
      "-0.0029231594516708754\n",
      "-6.650639764832601e-05\n",
      "0.0010448100857631114\n",
      "0.0019066044738912137\n",
      "0.0037306243873919307\n",
      "0.0047004384145277805\n",
      "0.008492056649989246\n",
      "0.009608518818516144\n",
      "0.01028826285839528\n",
      "0.011561430992969197\n",
      "0.012206873397558481\n",
      "0.013707527702898235\n",
      "0.015338578871885453\n",
      "0.013434138354178797\n",
      "0.015965360744020194\n",
      "0.016484564181557845\n",
      "0.01578974293204359\n",
      "0.015016530899053783\n",
      "0.013395680758472176\n",
      "0.01317387292158347\n",
      "0.012074607173241108\n",
      "0.011926996936431417\n",
      "0.009205153418950758\n",
      "0.00945960560575042\n",
      "0.006743166276841802\n",
      "0.00456518756647702\n",
      "0.003172885135589063\n",
      "0.001512424177492129\n",
      "0.002125699458314168\n",
      "-0.00020962795935783595\n",
      "-0.0014721692339453997\n",
      "-0.002784943223756953\n",
      "-0.0036969130633271842\n",
      "-0.0041823758215792555\n",
      "-0.0038608009886299355\n",
      "-0.004726739536286794\n",
      "-0.004242675864260587\n",
      "-0.00440304474095399\n",
      "-0.00187343394265051\n",
      "-0.002479376691251594\n",
      "-0.0016019587431807\n",
      "-0.00018299011649840165\n",
      "-4.0253912296074767e-05\n",
      "0.001905676786010664\n",
      "0.00248314791437213\n",
      "0.0049081863285965885\n",
      "0.005821179439280323\n",
      "0.005651621335620187\n",
      "0.00810342723050772\n",
      "0.009797741510421844\n",
      "0.010331068744255382\n",
      "0.01088082908288975\n",
      "0.01148616100116881\n",
      "0.01257768669617052\n",
      "0.011910349673535468\n",
      "0.01223508253509893\n",
      "0.012693461555239685\n",
      "0.011939425933506624\n",
      "0.010881930344401087\n",
      "0.011463566698238219\n",
      "0.008946279958482746\n",
      "0.008592633115880913\n",
      "0.007067583245457748\n",
      "0.0055178791825441715\n",
      "0.004628556985433473\n",
      "0.004517597419377955\n",
      "0.0030850566642798157\n",
      "0.0015213819112683353\n",
      "0.0006075555164044384\n",
      "-0.0014250438821535242\n",
      "-0.0018365809622391794\n",
      "-0.0018050969177613025\n",
      "-0.0025347648635162382\n",
      "-0.00283086063026214\n",
      "-0.0026343636316546646\n",
      "-0.004595828893234849\n",
      "-0.0019339516171724051\n",
      "-0.0047282456197530595\n",
      "-0.0034171539169192407\n",
      "-0.0016516041542405375\n",
      "-0.0005101896244010416\n",
      "-0.0007865531881730927\n",
      "0.0005720455871211203\n",
      "0.0019652260402266797\n",
      "0.0019473482459301014\n"
     ]
    }
   ],
   "source": [
    "qarray,S_q_array=Calculate_S_q_frame(frame1,dims[0],N_particles=10000,dr=0.1,minr=0,maxr=dims[0]/2)"
   ]
  },
  {
   "cell_type": "code",
   "execution_count": 28,
   "metadata": {},
   "outputs": [
    {
     "data": {
      "text/plain": [
       "(0.0, 10.0)"
      ]
     },
     "execution_count": 28,
     "metadata": {},
     "output_type": "execute_result"
    },
    {
     "data": {
      "image/png": "[encoded data removed]",
      "text/plain": [
       "<Figure size 640x480 with 1 Axes>"
      ]
     },
     "metadata": {},
     "output_type": "display_data"
    }
   ],
   "source": [
    "plt.plot(qarray,S_q_array)\n",
    "ax = plt.gca()\n",
    "ax.set_xlim([0.5, 1])\n",
    "ax.set_ylim([0, 10])"
   ]
  },
  {
   "cell_type": "code",
   "execution_count": 38,
   "metadata": {},
   "outputs": [
    {
     "data": {
      "text/plain": [
       "array([0.        , 0.01856185, 0.03712369, 0.05568554, 0.07424739,\n",
       "       0.09280924, 0.11137108, 0.12993293, 0.14849478, 0.16705663,\n",
       "       0.18561847, 0.20418032, 0.22274217, 0.24130401, 0.25986586,\n",
       "       0.27842771, 0.29698956, 0.3155514 , 0.33411325, 0.3526751 ,\n",
       "       0.37123695, 0.38979879, 0.40836064, 0.42692249, 0.44548433,\n",
       "       0.46404618, 0.48260803, 0.50116988, 0.51973172, 0.53829357,\n",
       "       0.55685542, 0.57541727, 0.59397911, 0.61254096, 0.63110281,\n",
       "       0.64966466, 0.6682265 , 0.68678835, 0.7053502 , 0.72391204,\n",
       "       0.74247389, 0.76103574, 0.77959759, 0.79815943, 0.81672128,\n",
       "       0.83528313, 0.85384498, 0.87240682, 0.89096867, 0.90953052,\n",
       "       0.92809236, 0.94665421, 0.96521606, 0.98377791, 1.00233975,\n",
       "       1.0209016 , 1.03946345, 1.0580253 , 1.07658714, 1.09514899,\n",
       "       1.11371084, 1.13227268, 1.15083453, 1.16939638, 1.18795823,\n",
       "       1.20652007, 1.22508192, 1.24364377, 1.26220562, 1.28076746,\n",
       "       1.29932931, 1.31789116, 1.336453  , 1.35501485, 1.3735767 ,\n",
       "       1.39213855, 1.41070039, 1.42926224, 1.44782409, 1.46638594,\n",
       "       1.48494778, 1.50350963, 1.52207148, 1.54063332, 1.55919517,\n",
       "       1.57775702, 1.59631887, 1.61488071, 1.63344256, 1.65200441,\n",
       "       1.67056626, 1.6891281 , 1.70768995, 1.7262518 , 1.74481365,\n",
       "       1.76337549, 1.78193734, 1.80049919, 1.81906103, 1.83762288,\n",
       "       1.85618473, 1.87474658, 1.89330842, 1.91187027, 1.93043212,\n",
       "       1.94899397, 1.96755581, 1.98611766, 2.00467951, 2.02324135,\n",
       "       2.0418032 , 2.06036505, 2.0789269 , 2.09748874, 2.11605059,\n",
       "       2.13461244, 2.15317429, 2.17173613, 2.19029798, 2.20885983,\n",
       "       2.22742167, 2.24598352, 2.26454537, 2.28310722, 2.30166906,\n",
       "       2.32023091, 2.33879276, 2.35735461, 2.37591645, 2.3944783 ,\n",
       "       2.41304015, 2.43160199, 2.45016384, 2.46872569, 2.48728754,\n",
       "       2.50584938, 2.52441123, 2.54297308, 2.56153493, 2.58009677,\n",
       "       2.59865862, 2.61722047, 2.63578231, 2.65434416, 2.67290601,\n",
       "       2.69146786, 2.7100297 , 2.72859155, 2.7471534 , 2.76571525,\n",
       "       2.78427709, 2.80283894, 2.82140079, 2.83996264, 2.85852448,\n",
       "       2.87708633, 2.89564818, 2.91421002, 2.93277187, 2.95133372,\n",
       "       2.96989557, 2.98845741, 3.00701926, 3.02558111, 3.04414296,\n",
       "       3.0627048 , 3.08126665, 3.0998285 , 3.11839034, 3.13695219,\n",
       "       3.15551404, 3.17407589, 3.19263773, 3.21119958, 3.22976143,\n",
       "       3.24832328, 3.26688512, 3.28544697, 3.30400882, 3.32257066,\n",
       "       3.34113251, 3.35969436, 3.37825621, 3.39681805, 3.4153799 ,\n",
       "       3.43394175, 3.4525036 , 3.47106544, 3.48962729, 3.50818914,\n",
       "       3.52675098, 3.54531283, 3.56387468, 3.58243653, 3.60099837,\n",
       "       3.61956022, 3.63812207, 3.65668392, 3.67524576, 3.69380761,\n",
       "       3.71236946, 3.73093131, 3.74949315, 3.768055  , 3.78661685,\n",
       "       3.80517869, 3.82374054, 3.84230239, 3.86086424, 3.87942608,\n",
       "       3.89798793, 3.91654978, 3.93511163, 3.95367347, 3.97223532,\n",
       "       3.99079717, 4.00935901, 4.02792086, 4.04648271, 4.06504456,\n",
       "       4.0836064 , 4.10216825, 4.1207301 , 4.13929195, 4.15785379,\n",
       "       4.17641564, 4.19497749, 4.21353933, 4.23210118, 4.25066303,\n",
       "       4.26922488, 4.28778672, 4.30634857, 4.32491042, 4.34347227,\n",
       "       4.36203411, 4.38059596, 4.39915781, 4.41771965, 4.4362815 ,\n",
       "       4.45484335, 4.4734052 , 4.49196704, 4.51052889, 4.52909074,\n",
       "       4.54765259, 4.56621443, 4.58477628, 4.60333813, 4.62189997,\n",
       "       4.64046182, 4.65902367, 4.67758552, 4.69614736, 4.71470921,\n",
       "       4.73327106, 4.75183291, 4.77039475, 4.7889566 , 4.80751845,\n",
       "       4.8260803 , 4.84464214, 4.86320399, 4.88176584, 4.90032768,\n",
       "       4.91888953, 4.93745138, 4.95601323, 4.97457507, 4.99313692,\n",
       "       5.01169877, 5.03026062, 5.04882246, 5.06738431, 5.08594616,\n",
       "       5.104508  , 5.12306985, 5.1416317 , 5.16019355, 5.17875539,\n",
       "       5.19731724, 5.21587909, 5.23444094, 5.25300278, 5.27156463,\n",
       "       5.29012648, 5.30868832, 5.32725017, 5.34581202, 5.36437387,\n",
       "       5.38293571, 5.40149756, 5.42005941, 5.43862126, 5.4571831 ,\n",
       "       5.47574495, 5.4943068 , 5.51286864, 5.53143049, 5.54999234,\n",
       "       5.56855419, 5.58711603, 5.60567788, 5.62423973, 5.64280158,\n",
       "       5.66136342, 5.67992527, 5.69848712, 5.71704896, 5.73561081,\n",
       "       5.75417266, 5.77273451, 5.79129635, 5.8098582 , 5.82842005,\n",
       "       5.8469819 , 5.86554374, 5.88410559, 5.90266744, 5.92122929,\n",
       "       5.93979113, 5.95835298, 5.97691483, 5.99547667, 6.01403852,\n",
       "       6.03260037, 6.05116222, 6.06972406, 6.08828591, 6.10684776,\n",
       "       6.12540961, 6.14397145, 6.1625333 , 6.18109515, 6.19965699,\n",
       "       6.21821884, 6.23678069, 6.25534254, 6.27390438])"
      ]
     },
     "execution_count": 38,
     "metadata": {},
     "output_type": "execute_result"
    }
   ],
   "source": [
    "qarray"
   ]
  },
  {
   "cell_type": "code",
   "execution_count": 43,
   "metadata": {},
   "outputs": [
    {
     "name": "stderr",
     "output_type": "stream",
     "text": [
      "/var/folders/nl/0wymk6gn3bs5t88nh2hh2n400000gn/T/ipykernel_96213/3248217906.py:7: RuntimeWarning: divide by zero encountered in divide\n",
      "  G = (a / A2 * (np.sin(A) - A * np.cos(A))\n",
      "/var/folders/nl/0wymk6gn3bs5t88nh2hh2n400000gn/T/ipykernel_96213/3248217906.py:7: RuntimeWarning: invalid value encountered in multiply\n",
      "  G = (a / A2 * (np.sin(A) - A * np.cos(A))\n",
      "/var/folders/nl/0wymk6gn3bs5t88nh2hh2n400000gn/T/ipykernel_96213/3248217906.py:8: RuntimeWarning: divide by zero encountered in divide\n",
      "  + b / (A * A2) * (2 * A * np.sin(A) + (2 - A2) * np.cos(A) - 2)\n",
      "/var/folders/nl/0wymk6gn3bs5t88nh2hh2n400000gn/T/ipykernel_96213/3248217906.py:8: RuntimeWarning: invalid value encountered in multiply\n",
      "  + b / (A * A2) * (2 * A * np.sin(A) + (2 - A2) * np.cos(A) - 2)\n",
      "/var/folders/nl/0wymk6gn3bs5t88nh2hh2n400000gn/T/ipykernel_96213/3248217906.py:9: RuntimeWarning: divide by zero encountered in divide\n",
      "  + c / np.power(A, 5) * (-np.power(A, 4) * np.cos(A) + 4 * ((3 * A2 - 6) * np.cos(A) + A * (A2 - 6) * np.sin(A) + 6)))\n",
      "/var/folders/nl/0wymk6gn3bs5t88nh2hh2n400000gn/T/ipykernel_96213/3248217906.py:9: RuntimeWarning: invalid value encountered in multiply\n",
      "  + c / np.power(A, 5) * (-np.power(A, 4) * np.cos(A) + 4 * ((3 * A2 - 6) * np.cos(A) + A * (A2 - 6) * np.sin(A) + 6)))\n"
     ]
    }
   ],
   "source": [
    "def py(qr, eta):\n",
    "    a = np.power(1 + 2 * eta, 2) / np.power(1 - eta, 4)\n",
    "    b = -6 * eta * np.power(1 + eta / 2, 2) / np.power(1 - eta, 4)\n",
    "    c = eta / 2 * np.power(1 + 2 * eta, 2) / np.power(1 - eta, 4)\n",
    "    A = 2 * qr\n",
    "    A2 = A * A\n",
    "    G = (a / A2 * (np.sin(A) - A * np.cos(A))\n",
    "         + b / (A * A2) * (2 * A * np.sin(A) + (2 - A2) * np.cos(A) - 2)\n",
    "         + c / np.power(A, 5) * (-np.power(A, 4) * np.cos(A) + 4 * ((3 * A2 - 6) * np.cos(A) + A * (A2 - 6) * np.sin(A) + 6)))\n",
    "    \n",
    "    return 1 / (1 + 24 * eta * G / A)\n",
    "qr=np.arange(0,10,0.1)\n",
    "S_q=py(qr,0.3)"
   ]
  },
  {
   "cell_type": "code",
   "execution_count": 44,
   "metadata": {},
   "outputs": [
    {
     "data": {
      "text/plain": [
       "[<matplotlib.lines.Line2D at 0x7fd5e19c8c40>]"
      ]
     },
     "execution_count": 44,
     "metadata": {},
     "output_type": "execute_result"
    },
    {
     "data": {
      "image/png": "[encoded data removed]",
      "text/plain": [
       "<Figure size 640x480 with 1 Axes>"
      ]
     },
     "metadata": {},
     "output_type": "display_data"
    }
   ],
   "source": [
    "plt.plot(qr,S_q)"
   ]
  },
  {
   "cell_type": "code",
   "execution_count": null,
   "metadata": {},
   "outputs": [],
   "source": []
  }
 ],
 "metadata": {
  "interpreter": {
   "hash": "4156556e6e03b10d50b5dac05d0c261da49a8b860e8eead20c18116de996e3d7"
  },
  "kernelspec": {
   "display_name": "Python 3.8.19 ('colloidal_gel')",
   "language": "python",
   "name": "python3"
  },
  "language_info": {
   "codemirror_mode": {
    "name": "ipython",
    "version": 3
   },
   "file_extension": ".py",
   "mimetype": "text/x-python",
   "name": "python",
   "nbconvert_exporter": "python",
   "pygments_lexer": "ipython3",
   "version": "3.8.19"
  },
  "orig_nbformat": 4
 },
 "nbformat": 4,
 "nbformat_minor": 2
}
