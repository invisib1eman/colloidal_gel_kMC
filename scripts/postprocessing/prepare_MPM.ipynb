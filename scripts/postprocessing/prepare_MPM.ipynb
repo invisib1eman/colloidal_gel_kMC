{
 "cells": [
  {
   "cell_type": "code",
   "execution_count": 1,
   "metadata": {},
   "outputs": [],
   "source": [
    "import numpy as np\n",
    "import MDAnalysis as mda\n",
    "import matplotlib.pyplot as plt\n",
    "import seaborn as sns\n",
    "import pandas as pd\n",
    "import os\n",
    "import shutil \n"
   ]
  },
  {
   "cell_type": "code",
   "execution_count": 2,
   "metadata": {},
   "outputs": [
    {
     "name": "stderr",
     "output_type": "stream",
     "text": [
      "/Users/doggy/miniforge3/envs/porous/lib/python3.12/site-packages/MDAnalysis/topology/guessers.py:146: UserWarning: Failed to guess the mass for the following atom types: 1\n",
      "  warnings.warn(\"Failed to guess the mass for the following atom types: {}\".format(atom_type))\n",
      "/Users/doggy/miniforge3/envs/porous/lib/python3.12/site-packages/MDAnalysis/coordinates/LAMMPS.py:598: UserWarning: Reader has no dt information, set to 1.0 ps\n",
      "  ts.data['time'] = step_num * ts.dt\n"
     ]
    }
   ],
   "source": [
    "salt_list = [0.9, 1.7, 3, 9, 80]\n",
    "step = 0.1\n",
    "N = 8000\n",
    "L = 100\n",
    "t = 300\n",
    "taucrawl = 1\n",
    "for salt in salt_list:\n",
    "    dataname = f\"../../data/{salt}mM_freeroll_step{step}_N_{N}_L_{L}_t_{t}_taucrawl_{taucrawl}.data\"\n",
    "    trajname = f\"../../trajectories/{salt}mM_freeroll_step{step}_N_{N}_L_{L}_t_{t}_taucrawl_{taucrawl}.lammpstrj\"\n",
    "    newtrajname = f\"../../trajectories/{salt}mM_freeroll_step{step}_N_{N}_L_{L}_t_{t}_taucrawl_{taucrawl}.lammpsdump\"\n",
    "    if os.path.exists(newtrajname) == False:\n",
    "        shutil.copy(trajname, newtrajname)\n",
    "    u = mda.Universe(f\"{dataname}\",f\"{newtrajname}\")\n",
    "    time_interval = 100\n",
    "    n_chuck = 10\n",
    "    N_particles = len(u.atoms)\n",
    "    box_size = u.dimensions[:3]\n",
    "    for i in range(n_chuck):\n",
    "        start_time = i * time_interval\n",
    "        end_time = start_time + 1\n",
    "        traj_txt_name = f\"../../MPM_traj/{salt}mM_freeroll_step{step}_N{N}_L{L}_t{t}_taucrawl{taucrawl}_time_{start_time}_{end_time}.txt\"\n",
    "        with open(traj_txt_name, \"w+\") as f:\n",
    "            \n",
    "            for ts in u.trajectory[start_time:end_time]:\n",
    "                f.write(f\"{N_particles}\\n\")\n",
    "                f.write(f\"{box_size[0]} {box_size[1]} {box_size[2]}\\n\")\n",
    "                for j in range(N_particles):\n",
    "                    f.write(f\"{ts.positions[j][0]} {ts.positions[j][1]} {ts.positions[j][2]}\\n\")\n",
    "    "
   ]
  },
  {
   "cell_type": "markdown",
   "metadata": {},
   "source": []
  },
  {
   "cell_type": "code",
   "execution_count": null,
   "metadata": {},
   "outputs": [],
   "source": []
  }
 ],
 "metadata": {
  "kernelspec": {
   "display_name": "porous",
   "language": "python",
   "name": "python3"
  },
  "language_info": {
   "codemirror_mode": {
    "name": "ipython",
    "version": 3
   },
   "file_extension": ".py",
   "mimetype": "text/x-python",
   "name": "python",
   "nbconvert_exporter": "python",
   "pygments_lexer": "ipython3",
   "version": "3.12.7"
  }
 },
 "nbformat": 4,
 "nbformat_minor": 2
}
