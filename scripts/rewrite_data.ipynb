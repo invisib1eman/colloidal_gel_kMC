{
 "cells": [
  {
   "cell_type": "code",
   "execution_count": 1,
   "metadata": {},
   "outputs": [],
   "source": [
    "import sys"
   ]
  },
  {
   "cell_type": "code",
   "execution_count": 3,
   "metadata": {},
   "outputs": [
    {
     "name": "stdout",
     "output_type": "stream",
     "text": [
      "Done\n"
     ]
    }
   ],
   "source": [
    "salt_list = [0.9, 1.7, 3, 9, 33, 66, 80]\n",
    "\n",
    "for salt in salt_list:\n",
    "    dataname = f\"../data/{salt}mM_Dump.data\"\n",
    "    output_data = f\"../data/{salt}mM_Dump_rewrite.data\"\n",
    "    with open(dataname, 'r') as infile, open(output_data, 'w') as outfile:\n",
    "        found_atoms = False\n",
    "        for line in infile:\n",
    "            stripped_line = line.strip()\n",
    "            if stripped_line == \"Atoms\":\n",
    "                found_atoms = True\n",
    "                outfile.write(line)\n",
    "                continue\n",
    "            if found_atoms and stripped_line == \"\":\n",
    "                outfile.write(line)\n",
    "                continue\n",
    "            if found_atoms and stripped_line != \"\":\n",
    "                parts = stripped_line.split()\n",
    "                if len(parts) == 5:\n",
    "                    first_number = parts[0]\n",
    "                    modified_line = f\"{first_number} {first_number} {parts[1]} {parts[2]} {parts[3]} {parts[4]}\"\n",
    "                    outfile.write(modified_line + \"\\n\")\n",
    "                    continue\n",
    "            outfile.write(line)\n",
    "print(\"Done\")\n"
   ]
  },
  {
   "cell_type": "code",
   "execution_count": null,
   "metadata": {},
   "outputs": [],
   "source": []
  }
 ],
 "metadata": {
  "kernelspec": {
   "display_name": "porous",
   "language": "python",
   "name": "python3"
  },
  "language_info": {
   "codemirror_mode": {
    "name": "ipython",
    "version": 3
   },
   "file_extension": ".py",
   "mimetype": "text/x-python",
   "name": "python",
   "nbconvert_exporter": "python",
   "pygments_lexer": "ipython3",
   "version": "3.12.7"
  }
 },
 "nbformat": 4,
 "nbformat_minor": 2
}
