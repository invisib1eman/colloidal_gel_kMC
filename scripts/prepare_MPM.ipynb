{
 "cells": [
  {
   "cell_type": "code",
   "execution_count": 1,
   "metadata": {},
   "outputs": [],
   "source": [
    "import numpy as np\n",
    "import MDAnalysis as mda\n",
    "import matplotlib.pyplot as plt\n",
    "import seaborn as sns\n",
    "import pandas as pd\n",
    "import os\n",
    "import shutil \n"
   ]
  },
  {
   "cell_type": "code",
   "execution_count": 2,
   "metadata": {},
   "outputs": [
    {
     "name": "stderr",
     "output_type": "stream",
     "text": [
      "/Users/doggy/miniforge3/envs/porous/lib/python3.12/site-packages/MDAnalysis/coordinates/LAMMPS.py:598: UserWarning: Reader has no dt information, set to 1.0 ps\n",
      "  ts.data['time'] = step_num * ts.dt\n"
     ]
    }
   ],
   "source": [
    "mw = 20\n",
    "mr = 2\n",
    "dl = 0.49\n",
    "salt_concentration = 0.0017\n",
    "dataname = f\"my_10000_mw_{mw:.1f}_mr_{mr:.1f}_dl_{dl:.2f}.data\"\n",
    "trajname = f\"my_10000_mw_{mw:.1f}_mr_{mr:.1f}_dl_{dl:.2f}.lammpstrj\"\n",
    "newtrajname = f\"my_10000_mw_{mw:.1f}_mr_{mr:.1f}_dl_{dl:.2f}.lammpsdump\"\n",
    "u = mda.Universe(f\"../data/{dataname}\",f\"../trajectories/{newtrajname}\")"
   ]
  },
  {
   "cell_type": "code",
   "execution_count": 3,
   "metadata": {},
   "outputs": [],
   "source": [
    "time_interval = 1000\n",
    "n_chuck = 10\n",
    "N_particles = len(u.atoms)\n",
    "box_size = u.dimensions[:3]\n",
    "for i in range(n_chuck):\n",
    "    start_time = i * time_interval + 200\n",
    "    end_time = start_time + 10\n",
    "    traj_txt_name = f\"irreversible_gel_salt_{salt_concentration:.3f}_10000_volumefraction_0.01_time_{start_time}_{end_time}.txt\"\n",
    "    with open(traj_txt_name, \"w\") as f:\n",
    "        \n",
    "        for ts in u.trajectory[start_time:end_time]:\n",
    "            f.write(f\"{N_particles}\\n\")\n",
    "            f.write(f\"{box_size[0]} {box_size[1]} {box_size[2]}\\n\")\n",
    "            for j in range(N_particles):\n",
    "                f.write(f\"{ts.positions[j][0]} {ts.positions[j][1]} {ts.positions[j][2]}\\n\")\n",
    "\n"
   ]
  },
  {
   "cell_type": "code",
   "execution_count": null,
   "metadata": {},
   "outputs": [],
   "source": []
  }
 ],
 "metadata": {
  "kernelspec": {
   "display_name": "porous",
   "language": "python",
   "name": "python3"
  },
  "language_info": {
   "codemirror_mode": {
    "name": "ipython",
    "version": 3
   },
   "file_extension": ".py",
   "mimetype": "text/x-python",
   "name": "python",
   "nbconvert_exporter": "python",
   "pygments_lexer": "ipython3",
   "version": "3.12.7"
  }
 },
 "nbformat": 4,
 "nbformat_minor": 2
}
